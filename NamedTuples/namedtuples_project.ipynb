{
 "cells": [
  {
   "cell_type": "code",
   "execution_count": 1,
   "metadata": {},
   "outputs": [
    {
     "name": "stdout",
     "output_type": "stream",
     "text": [
      "Requirement already satisfied: faker in c:\\users\\ktgan\\appdata\\local\\programs\\python\\python36\\lib\\site-packages (4.1.3)\n",
      "Requirement already satisfied: python-dateutil>=2.4 in c:\\users\\ktgan\\appdata\\local\\programs\\python\\python36\\lib\\site-packages (from faker) (2.8.1)\n",
      "Requirement already satisfied: text-unidecode==1.3 in c:\\users\\ktgan\\appdata\\local\\programs\\python\\python36\\lib\\site-packages (from faker) (1.3)\n",
      "Requirement already satisfied: six>=1.5 in c:\\users\\ktgan\\appdata\\local\\programs\\python\\python36\\lib\\site-packages (from python-dateutil>=2.4->faker) (1.12.0)\n"
     ]
    },
    {
     "name": "stderr",
     "output_type": "stream",
     "text": [
      "WARNING: pip is being invoked by an old script wrapper. This will fail in a future version of pip.\n",
      "Please see https://github.com/pypa/pip/issues/5599 for advice on fixing the underlying issue.\n",
      "To avoid this problem you can invoke Python with '-m pip' instead of running pip directly.\n",
      "WARNING: You are using pip version 20.1; however, version 21.1.3 is available.\n",
      "You should consider upgrading via the 'c:\\users\\ktgan\\appdata\\local\\programs\\python\\python36\\python.exe -m pip install --upgrade pip' command.\n"
     ]
    }
   ],
   "source": [
    "!pip install faker"
   ]
  },
  {
   "cell_type": "code",
   "execution_count": 2,
   "metadata": {},
   "outputs": [],
   "source": [
    "import sys\n",
    "from collections import namedtuple, Counter\n",
    "from datetime import date\n",
    "from random import choice, randint, uniform\n",
    "from faker import Faker"
   ]
  },
  {
   "cell_type": "code",
   "execution_count": 3,
   "metadata": {},
   "outputs": [],
   "source": [
    "def getfaker_obj():\n",
    "    '''\n",
    "    Faker is a python library to generate fake data\n",
    "    Function which returns the faker object\n",
    "    Seed helps to generate the same data in multiple runs of the function\n",
    "    '''\n",
    "    Faker.seed(47)\n",
    "    fake = Faker()\n",
    "    return fake"
   ]
  },
  {
   "cell_type": "code",
   "execution_count": 4,
   "metadata": {},
   "outputs": [],
   "source": [
    "def getfaker_profile(fakerobj):\n",
    "    '''\n",
    "    Function to generate fake profile data\n",
    "    Profile contains information like name, gender, job, ssn, current location, birthdate etc.\n",
    "    Since we are interested only in certain fields, create a namedtuple to hold that information\n",
    "    Interested fields for inspection are: blood_group, current_location age\n",
    "    '''\n",
    "    profile = fakerobj.profile()\n",
    "\n",
    "    # Faker profile contains birthdate and from which age is calculated\n",
    "    today = date.today()\n",
    "    age = (today - profile['birthdate']).days\n",
    "\n",
    "    Profile = namedtuple('Profile', 'blood_group latitude longitude birthdate age')\n",
    "    # Returning the relevant profile information in a named tuple\n",
    "    return Profile(profile['blood_group'], float(profile['current_location'][0]), \\\n",
    "                    float(profile['current_location'][1]), profile['birthdate'], age)"
   ]
  },
  {
   "cell_type": "code",
   "execution_count": 5,
   "metadata": {},
   "outputs": [],
   "source": [
    "def generate_profiles(num_profiles = 1, profiles = None):\n",
    "    '''\n",
    "    Function to generate the fake profiles\n",
    "    num_profiles denote the number of profiles requried to generate\n",
    "    Default value is '1' and can be changed by the caller\n",
    "    '''\n",
    "    if profiles is not None:\n",
    "        profiles_list = profiles\n",
    "    else:\n",
    "        profiles_list = []\n",
    "        fake = getfaker_obj()\n",
    "        for _ in range(num_profiles):\n",
    "            # Update the list with each profile generated\n",
    "            profiles_list.append(getfaker_profile(fake))\n",
    "    return profiles_list"
   ]
  },
  {
   "cell_type": "code",
   "execution_count": 6,
   "metadata": {},
   "outputs": [],
   "source": [
    "def getfaker_profile_dict(fakerobj):\n",
    "    '''\n",
    "    Function to generate fake profile data\n",
    "    Profile contains information like name, gender, job, ssn, current location, birthdate etc.\n",
    "    Interested fields for inspection are: blood_group, current_location age\n",
    "    '''\n",
    "    profile = fakerobj.profile()\n",
    "\n",
    "    today = date.today()\n",
    "    age = (today - profile['birthdate']).days\n",
    "\n",
    "    profile_dict = dict.fromkeys(['blood_group', 'latitude', 'longitude' 'birthdate', 'age'], 0)\n",
    "\n",
    "    profile_dict['blood_group'] = profile['blood_group']\n",
    "    profile_dict['latitude'] = profile['current_location'][0]\n",
    "    profile_dict['longitude'] = profile['current_location'][1]\n",
    "    profile_dict['birthdate'] = profile['birthdate']\n",
    "    profile_dict['age'] = age\n",
    "    return profile_dict"
   ]
  },
  {
   "cell_type": "code",
   "execution_count": 7,
   "metadata": {},
   "outputs": [],
   "source": [
    "def generate_profiles_dict(num_profiles = 1, profiles = None):\n",
    "    '''\n",
    "    Function to generate the fake profiles\n",
    "    num_profiles denote the number of profiles requried to generate\n",
    "    Default value is '1' and can be changed by the caller\n",
    "\n",
    "    if profiles is sent by the caller the same information is used to populate the dictionary\n",
    "    else new profiles will be created in dict fashion\n",
    "    '''\n",
    "    profiles_dict = {}\n",
    "    if profiles is not None:\n",
    "        for index, profile in enumerate(profiles):\n",
    "            profiles_dict[index] = dict(profile._asdict())\n",
    "    else:\n",
    "        fake = getfaker_obj()\n",
    "        for index in range(num_profiles):\n",
    "            # Update the list with each profile generated\n",
    "            profiles_dict[index] = getfaker_profile(fake)\n",
    "    return profiles_dict"
   ]
  },
  {
   "cell_type": "code",
   "execution_count": 8,
   "metadata": {},
   "outputs": [],
   "source": [
    "def calc_time_nt_largest_blood_group(profiles):\n",
    "    '''\n",
    "    Calculates the largest blood group from the list of profiles\n",
    "    Extracts the blood_group to a list and use Counter to find the largest available blood group\n",
    "    '''\n",
    "    blood_group_list = []  \n",
    "\n",
    "    for profile in profiles:\n",
    "        # profile is a namedtuple and fields can be accessed using . (dot) operator\n",
    "        blood_group_list.append(profile.blood_group)\n",
    "\n",
    "    large_blood_group = Counter(blood_group_list).most_common(1)\n",
    "    return large_blood_group"
   ]
  },
  {
   "cell_type": "code",
   "execution_count": 9,
   "metadata": {},
   "outputs": [],
   "source": [
    "def calc_time_dict_largest_blood_group(profiles):\n",
    "    '''\n",
    "    Calculates the largest blood group from the list of profiles\n",
    "    Extracts the blood_group to a list and use Counter to find the largest available blood group\n",
    "    '''\n",
    "    blood_group_list = []  \n",
    "    #profiles is a dictionary and iterated among its values\n",
    "    for profile in profiles.values():\n",
    "        blood_group_list.append(profile['blood_group'])\n",
    "\n",
    "    large_blood_group = Counter(blood_group_list).most_common(1)\n",
    "    return large_blood_group"
   ]
  },
  {
   "cell_type": "code",
   "execution_count": 10,
   "metadata": {},
   "outputs": [],
   "source": [
    "def calc_time_nt_mean_current_location(profiles):\n",
    "    '''\n",
    "    Calculates the mean current location from the list of profiles\n",
    "    Extracts the lattitude and longitude to a list and computes average\n",
    "    '''\n",
    "    lat_list = []\n",
    "    long_list = []\n",
    "\n",
    "    for profile in profiles:\n",
    "        lat_list.append(float(profile.latitude))\n",
    "        long_list.append(float(profile.longitude))\n",
    "\n",
    "    mean_location = [sum(lat_list)/len(profiles), sum(long_list)/len(profiles)]\n",
    "    return mean_location"
   ]
  },
  {
   "cell_type": "code",
   "execution_count": 11,
   "metadata": {},
   "outputs": [],
   "source": [
    "def calc_time_dict_mean_current_location(profiles):\n",
    "    '''\n",
    "    Calculates the mean current location from the list of profiles\n",
    "    Extracts the lattitude and longitude to a list and computes average\n",
    "    '''\n",
    "    lat_list = []\n",
    "    long_list = []\n",
    "\n",
    "    for profile in profiles.values():\n",
    "        lat_list.append(float(profile['latitude']))\n",
    "        long_list.append(float(profile['longitude']))\n",
    "\n",
    "    mean_location = [sum(lat_list)/len(profiles), sum(long_list)/len(profiles)]\n",
    "    return mean_location\n"
   ]
  },
  {
   "cell_type": "code",
   "execution_count": 12,
   "metadata": {},
   "outputs": [],
   "source": [
    "def calc_time_nt_oldest_average_age(profiles):\n",
    "    '''\n",
    "    Calculates the oldest age and average age from the list of profiles\n",
    "    Extracts the age information to a list and computes maximum value and average\n",
    "    '''\n",
    "    age_list = []\n",
    "\n",
    "    for profile in profiles:\n",
    "        age_list.append(profile.age)\n",
    "\n",
    "    oldest_age = max(age_list)\n",
    "    average_age = (sum(age_list)/len(profiles))\n",
    "    return oldest_age, average_age"
   ]
  },
  {
   "cell_type": "code",
   "execution_count": 13,
   "metadata": {},
   "outputs": [],
   "source": [
    "def calc_time_dict_oldest_average_age(profiles):\n",
    "    '''\n",
    "    Calculates the oldest age and average age from the list of profiles\n",
    "    Extracts the age information to a list and computes maximum value and average\n",
    "    '''\n",
    "    age_list = []\n",
    "\n",
    "    for profile in profiles.values():\n",
    "        age_list.append(profile['age'])\n",
    "\n",
    "    oldest_age = max(age_list)\n",
    "    average_age = (sum(age_list)/len(profiles))\n",
    "    return oldest_age, average_age"
   ]
  },
  {
   "cell_type": "code",
   "execution_count": 14,
   "metadata": {},
   "outputs": [],
   "source": [
    "num_profiles = 10000"
   ]
  },
  {
   "cell_type": "code",
   "execution_count": 15,
   "metadata": {},
   "outputs": [
    {
     "data": {
      "text/plain": [
       "(10000, __main__.Profile)"
      ]
     },
     "execution_count": 15,
     "metadata": {},
     "output_type": "execute_result"
    }
   ],
   "source": [
    "profiles = generate_profiles(num_profiles)\n",
    "len(profiles), type(profiles[0])"
   ]
  },
  {
   "cell_type": "code",
   "execution_count": 16,
   "metadata": {},
   "outputs": [
    {
     "data": {
      "text/plain": [
       "(10000, dict)"
      ]
     },
     "execution_count": 16,
     "metadata": {},
     "output_type": "execute_result"
    }
   ],
   "source": [
    "profiles_dict = generate_profiles_dict(num_profiles, profiles)\n",
    "len(profiles_dict), type(profiles_dict)"
   ]
  },
  {
   "cell_type": "code",
   "execution_count": 17,
   "metadata": {},
   "outputs": [],
   "source": [
    "assert len(profiles) == num_profiles, 'Mismatch in length of profiles'\n",
    "assert('g' not in [profile.blood_group for profile in profiles]), 'Hmm! \\'g\\' seems to be a rare blood-group, never heard of it!'\n",
    "assert(0 not in [profile.latitude for profile in profiles]), 'No zer-coordinates for location!'\n",
    "assert(0 not in [profile.longitude for profile in profiles]), 'No zer-coordinates for location!'"
   ]
  },
  {
   "cell_type": "code",
   "execution_count": 18,
   "metadata": {},
   "outputs": [
    {
     "data": {
      "text/plain": [
       "([('B+', 1310)], [('B+', 1310)])"
      ]
     },
     "execution_count": 18,
     "metadata": {},
     "output_type": "execute_result"
    }
   ],
   "source": [
    "result_bt_nt = calc_time_nt_largest_blood_group(profiles)\n",
    "result_bt_dict = calc_time_dict_largest_blood_group(profiles_dict)\n",
    "result_bt_nt, result_bt_dict"
   ]
  },
  {
   "cell_type": "code",
   "execution_count": 19,
   "metadata": {},
   "outputs": [],
   "source": [
    "#Comparing results for largest blood type\n",
    "assert(result_bt_nt == result_bt_dict), 'Largest Blood Type results are not matching'"
   ]
  },
  {
   "cell_type": "code",
   "execution_count": 20,
   "metadata": {},
   "outputs": [
    {
     "data": {
      "text/plain": [
       "([0.15718491810000088, 1.415300867600005],\n",
       " [0.15718491810000088, 1.415300867600005])"
      ]
     },
     "execution_count": 20,
     "metadata": {},
     "output_type": "execute_result"
    }
   ],
   "source": [
    "result_loc_nt = calc_time_nt_mean_current_location(profiles)\n",
    "result_loc_dict = calc_time_dict_mean_current_location(profiles_dict)\n",
    "result_loc_nt, result_loc_dict"
   ]
  },
  {
   "cell_type": "code",
   "execution_count": 21,
   "metadata": {},
   "outputs": [],
   "source": [
    "#Comparing results for mean current location\n",
    "assert(result_loc_nt == result_loc_dict), 'Mean Current Location results are not matching'"
   ]
  },
  {
   "cell_type": "code",
   "execution_count": 22,
   "metadata": {},
   "outputs": [
    {
     "data": {
      "text/plain": [
       "(42364, 21218.406, 42364, 21218.406)"
      ]
     },
     "execution_count": 22,
     "metadata": {},
     "output_type": "execute_result"
    }
   ],
   "source": [
    "oldest_age_nt, average_age_nt = calc_time_nt_oldest_average_age(profiles)\n",
    "oldest_age_dict, average_age_dict = calc_time_dict_oldest_average_age(profiles_dict)\n",
    "oldest_age_nt, average_age_nt, oldest_age_dict, average_age_dict"
   ]
  },
  {
   "cell_type": "code",
   "execution_count": 23,
   "metadata": {},
   "outputs": [],
   "source": [
    "assert(oldest_age_nt == oldest_age_dict), 'Oldest Age results are not matching'\n",
    "assert(average_age_nt == average_age_dict), 'Average Age results are not matching'"
   ]
  },
  {
   "cell_type": "code",
   "execution_count": 24,
   "metadata": {},
   "outputs": [],
   "source": [
    "def timed(repeats=1):\n",
    "    '''\n",
    "    Decorator factory to compute the average running time of a function\n",
    "    repeats is an input argument which indicates how many times the function will be running for average time computation\n",
    "    default value for repeats = 1 and can be changed by the caller\n",
    "    '''\n",
    "    def timer_decorator(fn):\n",
    "        from time import perf_counter\n",
    "        from functools import wraps\n",
    "        @wraps(fn)\n",
    "        def inner(*args, **kwargs):\n",
    "            # Call the function for repeats times and compute the average running time for each call\n",
    "            total_elapsed = 0\n",
    "            for _ in range(repeats):\n",
    "                start = perf_counter()\n",
    "                result = fn(*args, **kwargs)\n",
    "                end = perf_counter()\n",
    "                total_elapsed += (end-start)\n",
    "            avg_time = (total_elapsed/repeats)* int(1e9) #Nano Seconds\n",
    "            print(f'{fn.__name__}() average running_time: {avg_time:.3f}msec for {repeats} repetitions')\n",
    "            return round(avg_time, 3), result\n",
    "        return inner\n",
    "    return timer_decorator\n",
    "\n",
    "@timed(1_000_000)\n",
    "def nt_field_access(profile, check_value):\n",
    "    '''\n",
    "    Function to access the fields of a namedtuple\n",
    "    This is to check how much time it takes to access fields in namedtuple object\n",
    "    '''\n",
    "    'latitude' in profile._fields\n",
    "    'blood_group' in profile._fields\n",
    "    'random_field' in profile._fields\n",
    "    check_value in profile\n",
    "    profile.age\n",
    "\n",
    "@timed(1_000_000)\n",
    "def dict_field_access(profile_dict, check_value):\n",
    "    '''\n",
    "    Function to access the fields of a dictionary\n",
    "    This is to check how much time it takes to access fields in dictionary object\n",
    "    '''\n",
    "    'latitude' in profile_dict\n",
    "    'blood_group' in profile_dict\n",
    "    'random_key' in profile_dict\n",
    "    check_value in profile_dict.values()\n",
    "    profile_dict['age']"
   ]
  },
  {
   "cell_type": "code",
   "execution_count": 28,
   "metadata": {},
   "outputs": [
    {
     "name": "stdout",
     "output_type": "stream",
     "text": [
      "nt_field_access() average running_time: 570.745msec for 1000000 repetitions\n",
      "dict_field_access() average running_time: 627.198msec for 1000000 repetitions\n"
     ]
    },
    {
     "data": {
      "text/plain": [
       "(570.745, 627.198)"
      ]
     },
     "execution_count": 28,
     "metadata": {},
     "output_type": "execute_result"
    }
   ],
   "source": [
    "#T1: Accessing Fields\n",
    "time_nt, _ = nt_field_access(profiles[0], profiles[0].blood_group)\n",
    "time_dict, _ = dict_field_access(profiles[0]._asdict(), profiles[0].blood_group)\n",
    "time_nt, time_dict"
   ]
  },
  {
   "cell_type": "code",
   "execution_count": 29,
   "metadata": {},
   "outputs": [],
   "source": [
    "assert(time_nt < time_dict), 'FieldAccess: Dictionaires are better than NamedTuples!'"
   ]
  },
  {
   "cell_type": "code",
   "execution_count": 30,
   "metadata": {},
   "outputs": [],
   "source": [
    "@timed(1_000_000)\n",
    "def nt_size_compare(profile):\n",
    "    '''\n",
    "    Function to retrieve the memory occupied by namedtuple\n",
    "    '''\n",
    "    return sys.getsizeof(profile)\n",
    "\n",
    "@timed(1_000_000)\n",
    "def dict_size_compare(profile_dict):\n",
    "    '''\n",
    "    Function to retrieve the memory occupied by namedtuple\n",
    "    '''\n",
    "    return sys.getsizeof(profile_dict)"
   ]
  },
  {
   "cell_type": "code",
   "execution_count": 31,
   "metadata": {},
   "outputs": [
    {
     "name": "stdout",
     "output_type": "stream",
     "text": [
      "nt_size_compare() average running_time: 470.471msec for 1000000 repetitions\n",
      "dict_size_compare() average running_time: 462.423msec for 1000000 repetitions\n"
     ]
    },
    {
     "data": {
      "text/plain": [
       "(88, 240)"
      ]
     },
     "execution_count": 31,
     "metadata": {},
     "output_type": "execute_result"
    }
   ],
   "source": [
    "#T2: Memory Usage\n",
    "_, nt_size = nt_size_compare(profiles[0])\n",
    "_, dict_size = dict_size_compare(dict(profiles[0]._asdict()))\n",
    "nt_size, dict_size"
   ]
  },
  {
   "cell_type": "code",
   "execution_count": 32,
   "metadata": {},
   "outputs": [],
   "source": [
    "assert(nt_size < dict_size), 'Memory Usage: Dictionaires occupy less memory than NamedTuples!'"
   ]
  },
  {
   "cell_type": "code",
   "execution_count": 33,
   "metadata": {},
   "outputs": [],
   "source": [
    "@timed(1_000_000)\n",
    "def nt_instance_compare(profile1, profile2):\n",
    "    '''\n",
    "    Function to compare multiple objects of a namedtuple\n",
    "    '''\n",
    "    return profile1 == profile2\n",
    "\n",
    "@timed(1_000_000)\n",
    "def dict_instance_compare(profile_dict1, profile_dict2):\n",
    "    '''\n",
    "    Function to compare multiple objects of a namedtuple\n",
    "    '''\n",
    "    return profile_dict1 == profile_dict2"
   ]
  },
  {
   "cell_type": "code",
   "execution_count": 34,
   "metadata": {},
   "outputs": [
    {
     "name": "stdout",
     "output_type": "stream",
     "text": [
      "nt_instance_compare() average running_time: 251.316msec for 1000000 repetitions\n",
      "dict_instance_compare() average running_time: 326.080msec for 1000000 repetitions\n"
     ]
    }
   ],
   "source": [
    "#T3: Comparing two instances\n",
    "time_nt = nt_instance_compare(profiles[0], profiles[0])\n",
    "time_dict = dict_instance_compare(dict(profiles[0]._asdict()), dict(profiles[0]._asdict()))"
   ]
  },
  {
   "cell_type": "code",
   "execution_count": 35,
   "metadata": {},
   "outputs": [],
   "source": [
    "assert(time_nt < time_dict), 'Instance Compare: Dictionaires are faster than NamedTuples!'"
   ]
  },
  {
   "cell_type": "code",
   "execution_count": 36,
   "metadata": {},
   "outputs": [],
   "source": [
    "@timed(1_000_000)\n",
    "def nt_unpacking(profile):\n",
    "    '''\n",
    "    Function to unpack the values from namedtuple\n",
    "    '''\n",
    "    blood_group, latitude, longitude, birthdate, age = profile\n",
    "    return blood_group, latitude, longitude, birthdate, age\n",
    "\n",
    "@timed(1_000_000)\n",
    "def dict_unpacking(profile_dict):\n",
    "    '''\n",
    "    Function to unpack the values from dictionary\n",
    "    '''\n",
    "    blood_group, latitude, longitude, birthdate, age = profile_dict.values()\n",
    "    return blood_group, latitude, longitude, birthdate, age"
   ]
  },
  {
   "cell_type": "code",
   "execution_count": 37,
   "metadata": {},
   "outputs": [
    {
     "name": "stdout",
     "output_type": "stream",
     "text": [
      "nt_unpacking() average running_time: 379.033msec for 1000000 repetitions\n",
      "dict_unpacking() average running_time: 516.297msec for 1000000 repetitions\n"
     ]
    }
   ],
   "source": [
    "#T4: Unpacking values\n",
    "time_nt = nt_unpacking(profiles[0])\n",
    "time_dict = dict_unpacking(dict(profiles[0]._asdict()))"
   ]
  },
  {
   "cell_type": "code",
   "execution_count": 38,
   "metadata": {},
   "outputs": [],
   "source": [
    "assert(time_nt < time_dict), 'Unpack Values: Dictionaires are faster than NamedTuples!'"
   ]
  },
  {
   "cell_type": "code",
   "execution_count": 39,
   "metadata": {},
   "outputs": [],
   "source": [
    "@timed(1_000_000)\n",
    "def nt_create_new_instance(nt_class, new_values):\n",
    "    '''\n",
    "    Function to create new instance for the given named tuple\n",
    "    '''\n",
    "    profile_new = nt_class._make(new_values)\n",
    "    return profile_new\n",
    "\n",
    "@timed(1_000_000)\n",
    "def dict_create_new_instance(new_values):\n",
    "    '''\n",
    "    Function to create new instance for the given dictionary\n",
    "    '''\n",
    "    profile_dict_new = dict.fromkeys(['blood_group', 'latitude', 'longitude' 'birthdate', 'age'], 0)\n",
    "    profile_dict_new['blood_group'] = new_values[0]\n",
    "    profile_dict_new['latitude'] = new_values[1]\n",
    "    profile_dict_new['longitude'] = new_values[2]\n",
    "    profile_dict_new['birthdate'] = new_values[3]\n",
    "    profile_dict_new['age'] = new_values[4]\n",
    "    return profile_dict_new"
   ]
  },
  {
   "cell_type": "code",
   "execution_count": 40,
   "metadata": {},
   "outputs": [
    {
     "name": "stdout",
     "output_type": "stream",
     "text": [
      "nt_create_new_instance() average running_time: 773.928msec for 1000000 repetitions\n",
      "dict_create_new_instance() average running_time: 1221.181msec for 1000000 repetitions\n"
     ]
    }
   ],
   "source": [
    "#T5: create new instance\n",
    "Profile = namedtuple('Profile', 'blood_group latitude longitude birthdate age')\n",
    "new_values = ['AB+', 123.45, 67.8, date(1979, 2, 22), 32456]\n",
    "time_nt, _ = nt_create_new_instance(Profile, new_values)\n",
    "time_dict, _ = dict_create_new_instance(new_values)"
   ]
  },
  {
   "cell_type": "code",
   "execution_count": 41,
   "metadata": {},
   "outputs": [],
   "source": [
    "assert(time_nt < time_dict), 'Create New Instance: Dictionaires are faster than NamedTuples!'"
   ]
  },
  {
   "cell_type": "code",
   "execution_count": 42,
   "metadata": {},
   "outputs": [],
   "source": [
    "def calc_open_value(stocks, weights):\n",
    "    '''\n",
    "    Computes and returns the opening value of the stock exchange\n",
    "    '''\n",
    "    *_, open, high, close = list(zip(*stocks))\n",
    "    open_values = []\n",
    "    # Iterate through each stock, multiply the its opening and weightage\n",
    "    # Sum of the above gives the market opening value\n",
    "    for index, num in enumerate(open):\n",
    "        open_values.append(num*weights[index])\n",
    "    return sum(open_values)\n",
    "\n",
    "def calc_high_value(stocks, weights):\n",
    "    '''\n",
    "    Computes and returns the highest value for the day of the stock exchange\n",
    "    '''\n",
    "    *_, open, high, close = list(zip(*stocks))\n",
    "    high_values = []\n",
    "    # Iterate through each stock, compute the difference between its highest and opening value\n",
    "    # Multiply the difference with the weight of the stock\n",
    "    # Sum of the above with the market_open_value of the day gives the market highest point\n",
    "    for index in range(len(open)):\n",
    "        diff = high[index]-open[index]\n",
    "        high_values.append(diff*weights[index])\n",
    "    open_values = calc_open_value(stocks, weights)\n",
    "    return sum(high_values) + open_values\n",
    "\n",
    "def calc_close_value(stocks, weights):\n",
    "    '''\n",
    "    Computes and returns the closing value of the stock exchange\n",
    "    '''\n",
    "    *_, open, high, close = list(zip(*stocks))\n",
    "    close_values = []\n",
    "    # Iterate through each stock, compute the difference between its closing and opening value\n",
    "    # Multiply the difference with the weight of the stock\n",
    "    # Sum of the above with the market_open_value of the day gives the market closure value\n",
    "    for index in range(len(open)):\n",
    "        diff = close[index]-open[index]\n",
    "        close_values.append(diff*weights[index])\n",
    "    open_values = calc_open_value(stocks, weights)\n",
    "    return sum(close_values) + open_values"
   ]
  },
  {
   "cell_type": "code",
   "execution_count": 43,
   "metadata": {},
   "outputs": [],
   "source": [
    "def get_market_momentum(stocks, weights):\n",
    "    '''\n",
    "    Function to track market momentum\n",
    "    Given the current values of Stocks, the function computes whether market is going upwards or downwards\n",
    "    Returns the gain/loss adjusted to 2 decimal points\n",
    "    '''\n",
    "    market_open = calc_open_value(stocks, weights)\n",
    "    market_close = calc_close_value(stocks, weights)\n",
    "    diff = (market_close - market_open)\n",
    "    if(diff > 0):\n",
    "        return f'Markets gained {diff:.2f} points'\n",
    "    elif(diff == 0):\n",
    "        return f'Markets are continuing study at {market_open:.2f} points'\n",
    "    else:\n",
    "        return f'Markets lost {diff:.2f} points'"
   ]
  },
  {
   "cell_type": "code",
   "execution_count": 44,
   "metadata": {},
   "outputs": [],
   "source": [
    "def create_stock_exchange(num_stocks=1, stock_values=None, weight_values = None):\n",
    "    '''\n",
    "    Function to create stock exchange with the number of stocks requested\n",
    "    Each stock contains name, symbol, open, high, close values for the trading day\n",
    "    Random weights are assigned to each company and all the weights ensured to sum up to 1\n",
    "    The function returns the stocks and the associated weights to the caller\n",
    "    '''\n",
    "    def get_stock_info(faker):\n",
    "        '''\n",
    "        Uses faker library to generate company names\n",
    "        Symbol name is choosen as the first part of the company name(Split using spaces)\n",
    "        Open:\n",
    "            Indicates the open value of the stock for the given day\n",
    "            Ranges from 1 to 1500\n",
    "        High:\n",
    "            Indicates the highest value the stock touched for the given day\n",
    "            Ranges from (open to 2000) (or) equal to open\n",
    "            These two sets of values are used randomly to simulate stock going upwards, downwards\n",
    "        Close:\n",
    "            Indicates the closing value of the stock for the given day\n",
    "            Ranges from (1 to open) (or) equal to high\n",
    "            These two sets of values are used randomly to simulate stock going upwards, downwards\n",
    "        The function returns a namedtuple Stock with all the necessary values loaded\n",
    "        '''\n",
    "        Stock = namedtuple('Stock', 'name symbol open high close')\n",
    "        name = faker.company()\n",
    "        symbol = name.split()[0]\n",
    "        open = randint(1, 1500)\n",
    "        if(choice([0,1])):\n",
    "            high = randint(open, 2000)\n",
    "            close = high\n",
    "        else:\n",
    "            high = open\n",
    "            close = randint(1, open)\n",
    "        return Stock(name, symbol, open, high, close)\n",
    "\n",
    "    def generate_stock_prices(num_stocks=1):\n",
    "        '''\n",
    "        This function generates number of stocks based on input argument (default value = 1)\n",
    "        Each ticker is nothing a but a company stock and will be added to the list of stocks\n",
    "\n",
    "        The function returns a list with each element is a namedtuple of type 'Stock'\n",
    "        Check the function get_stock_info() to get more information on 'Stock' namedtuple\n",
    "        '''\n",
    "        stocks = []\n",
    "        fake = Faker()\n",
    "        Faker.seed(101)\n",
    "        for _ in range(num_stocks):\n",
    "            ticker = get_stock_info(fake)\n",
    "            stocks.append(ticker)\n",
    "        return stocks\n",
    "\n",
    "    def generate_stock_weights(num_stocks=1):\n",
    "        '''\n",
    "        Function to generate (random) weightage to each listed company in the stock exchange\n",
    "        Ensured that all the weights sum up to 1\n",
    "        '''\n",
    "        w1 = [uniform(0.01, 0.4) for _ in range(num_stocks)]\n",
    "        weights = [(num/sum(w1)) for num in w1]\n",
    "        return weights\n",
    "    # If caller doesn't pass any pre-loaded information for stocks, generate them\n",
    "    if stock_values is None:\n",
    "        stocks = generate_stock_prices(num_stocks)\n",
    "    else:\n",
    "        # Setting with the values shared by the caller\n",
    "        stocks = stock_values\n",
    "\n",
    "    # If caller doesn't pass any pre-loaded information for weights, generate them\n",
    "    if weight_values is None:\n",
    "        weights = generate_stock_weights(num_stocks)\n",
    "    else:\n",
    "        # Setting with the values shared by the caller\n",
    "        weights = weight_values\n",
    "    return stocks, weights"
   ]
  },
  {
   "cell_type": "code",
   "execution_count": 45,
   "metadata": {},
   "outputs": [],
   "source": [
    "num_stocks = 100"
   ]
  },
  {
   "cell_type": "code",
   "execution_count": 46,
   "metadata": {},
   "outputs": [
    {
     "data": {
      "text/plain": [
       "([Stock(name='Lee-Sanford', symbol='Lee-Sanford', open=331, high=331, close=95),\n",
       "  Stock(name='Mcdonald, Alvarado and Lewis', symbol='Mcdonald,', open=1354, high=1597, close=1597),\n",
       "  Stock(name='Roberts PLC', symbol='Roberts', open=810, high=810, close=111),\n",
       "  Stock(name='Maddox Inc', symbol='Maddox', open=416, high=1420, close=1420),\n",
       "  Stock(name='Davis PLC', symbol='Davis', open=530, high=745, close=745),\n",
       "  Stock(name='Ruiz-Nguyen', symbol='Ruiz-Nguyen', open=324, high=337, close=337),\n",
       "  Stock(name='Powell-Clark', symbol='Powell-Clark', open=481, high=1523, close=1523),\n",
       "  Stock(name='Torres-Rodriguez', symbol='Torres-Rodriguez', open=267, high=451, close=451),\n",
       "  Stock(name='Frazier, Ortega and Khan', symbol='Frazier,', open=813, high=813, close=57),\n",
       "  Stock(name='Gray-Henderson', symbol='Gray-Henderson', open=1414, high=1793, close=1793)],\n",
       " [0.011798294709545194,\n",
       "  0.005072437043092393,\n",
       "  0.0010376755766624102,\n",
       "  0.012598466194583996,\n",
       "  0.0007249423314254227,\n",
       "  0.013235138532110962,\n",
       "  0.007741671361185355,\n",
       "  0.0065969890419280645,\n",
       "  0.006733835013629477,\n",
       "  0.013060339464667295])"
      ]
     },
     "execution_count": 46,
     "metadata": {},
     "output_type": "execute_result"
    }
   ],
   "source": [
    "stocks, weights = create_stock_exchange(num_stocks)\n",
    "stocks[:10], weights[:10]"
   ]
  },
  {
   "cell_type": "code",
   "execution_count": 47,
   "metadata": {},
   "outputs": [],
   "source": [
    "*_, open, high, close = list(zip(*stocks))\n",
    "for index in range(len(stocks)):\n",
    "    #T3: Close should always be <= high value for the day\n",
    "    assert(close[index] <= high[index])\n",
    "    #T4: High should always be >= open value for the day\n",
    "    assert(high[index] >= open[index])\n",
    "    #T5: Open should always be > 0\n",
    "    assert(open[index] > 0)"
   ]
  },
  {
   "cell_type": "code",
   "execution_count": 48,
   "metadata": {},
   "outputs": [],
   "source": [
    "def generate_random_stocks(for_gain = True):\n",
    "    '''\n",
    "    Dummy function to create 3 stocks with their open, high, close and their weights of the stock exchange\n",
    "    for_gain = True\n",
    "        The open, high, close -> Chosen such a way that, the market is upwards\n",
    "    for_gain = False\n",
    "        The open, high, close -> Chosen such a way that, the market is downwards\n",
    "    '''\n",
    "    Stock = namedtuple('Stock', 'name symbol open high close')\n",
    "    if for_gain:\n",
    "        tsai = Stock('TSAI', 'TSA', 1400, 1560, 1500)\n",
    "        skunkworks = Stock('SKUNKWORKS', 'SKW', 2000, 2300, 2050)\n",
    "        inkers = Stock('INKERS', 'INK', 1675, 1987, 1900)\n",
    "    else:\n",
    "        tsai = Stock('TSAI', 'TSA', 1400, 1400, 1200)\n",
    "        skunkworks = Stock('SKUNKWORKS', 'SKW', 2000, 2000, 1850)\n",
    "        inkers = Stock('INKERS', 'INK', 1675, 1675, 1500)\n",
    "\n",
    "    weights = [0.45, 0.35, 0.2]\n",
    "    return [tsai, skunkworks, inkers], weights"
   ]
  },
  {
   "cell_type": "code",
   "execution_count": 49,
   "metadata": {},
   "outputs": [],
   "source": [
    "stocks, weights = generate_random_stocks(for_gain=True)\n",
    "stocks_new, weights_new = create_stock_exchange(3, stocks, weights)"
   ]
  },
  {
   "cell_type": "code",
   "execution_count": 50,
   "metadata": {},
   "outputs": [
    {
     "data": {
      "text/plain": [
       "([Stock(name='TSAI', symbol='TSA', open=1400, high=1560, close=1500),\n",
       "  Stock(name='SKUNKWORKS', symbol='SKW', open=2000, high=2300, close=2050),\n",
       "  Stock(name='INKERS', symbol='INK', open=1675, high=1987, close=1900)],\n",
       " [0.45, 0.35, 0.2])"
      ]
     },
     "execution_count": 50,
     "metadata": {},
     "output_type": "execute_result"
    }
   ],
   "source": [
    "stocks_new, weights_new"
   ]
  },
  {
   "cell_type": "code",
   "execution_count": 51,
   "metadata": {},
   "outputs": [],
   "source": [
    "#T7: Market Gain Check\n",
    "assert 'gain' in get_market_momentum(stocks_new, weights_new), 'Market should be gaining!'"
   ]
  },
  {
   "cell_type": "code",
   "execution_count": 52,
   "metadata": {},
   "outputs": [],
   "source": [
    "stocks, weights = generate_random_stocks(for_gain=False)\n",
    "stocks_new, weights_new = create_stock_exchange(3, stocks, weights)"
   ]
  },
  {
   "cell_type": "code",
   "execution_count": 53,
   "metadata": {},
   "outputs": [
    {
     "data": {
      "text/plain": [
       "([Stock(name='TSAI', symbol='TSA', open=1400, high=1400, close=1200),\n",
       "  Stock(name='SKUNKWORKS', symbol='SKW', open=2000, high=2000, close=1850),\n",
       "  Stock(name='INKERS', symbol='INK', open=1675, high=1675, close=1500)],\n",
       " [0.45, 0.35, 0.2])"
      ]
     },
     "execution_count": 53,
     "metadata": {},
     "output_type": "execute_result"
    }
   ],
   "source": [
    "stocks_new, weights_new"
   ]
  },
  {
   "cell_type": "code",
   "execution_count": 54,
   "metadata": {},
   "outputs": [],
   "source": [
    "#T8: Market Loss Check\n",
    "assert 'lost' in get_market_momentum(stocks_new, weights_new), 'Market is supposed to be in loss!'"
   ]
  },
  {
   "cell_type": "code",
   "execution_count": null,
   "metadata": {},
   "outputs": [],
   "source": []
  }
 ],
 "metadata": {
  "kernelspec": {
   "display_name": "Python 3",
   "language": "python",
   "name": "python3"
  },
  "language_info": {
   "codemirror_mode": {
    "name": "ipython",
    "version": 3
   },
   "file_extension": ".py",
   "mimetype": "text/x-python",
   "name": "python",
   "nbconvert_exporter": "python",
   "pygments_lexer": "ipython3",
   "version": "3.6.8"
  }
 },
 "nbformat": 4,
 "nbformat_minor": 2
}
