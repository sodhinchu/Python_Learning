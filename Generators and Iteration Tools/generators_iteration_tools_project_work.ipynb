{
  "nbformat": 4,
  "nbformat_minor": 0,
  "metadata": {
    "colab": {
      "name": "Session13_Assignment.ipynb",
      "provenance": [],
      "collapsed_sections": []
    },
    "kernelspec": {
      "name": "python3",
      "display_name": "Python 3"
    },
    "language_info": {
      "name": "python"
    }
  },
  "cells": [
    {
      "cell_type": "code",
      "metadata": {
        "id": "YUAN8Hp_-ZNA"
      },
      "source": [
        "from collections import namedtuple, Counter\n",
        "from datetime import datetime"
      ],
      "execution_count": 1,
      "outputs": []
    },
    {
      "cell_type": "code",
      "metadata": {
        "id": "OPZe0flf9v0N"
      },
      "source": [
        "class ParkingTickets:\n",
        "    '''\n",
        "    This is a class to lazily read contents of \\'nyc_parking_tickets_extract-1.csv\\' file\n",
        "    '''\n",
        "    def __init__(self, file_name):\n",
        "        self.file_name = file_name\n",
        "\n",
        "    def __iter__(self):\n",
        "        return ParkingTickets.read_file(self.file_name)\n",
        "\n",
        "    @staticmethod\n",
        "    def read_file(file_name):\n",
        "        with open(file_name) as f:\n",
        "            #Yield helps reading the file contents only when retrieved but not the whole content at once\n",
        "            yield from f"
      ],
      "execution_count": 2,
      "outputs": []
    },
    {
      "cell_type": "code",
      "metadata": {
        "colab": {
          "base_uri": "https://localhost:8080/"
        },
        "id": "RtvfS5FG930k",
        "outputId": "1e842d5d-4f1a-4d28-ff97-72486f7a3796"
      },
      "source": [
        "park_tkts = ParkingTickets('nyc_parking_tickets_extract-1.csv')\n",
        "park_tkts"
      ],
      "execution_count": 3,
      "outputs": [
        {
          "output_type": "execute_result",
          "data": {
            "text/plain": [
              "<__main__.ParkingTickets at 0x7f9ef7b170d0>"
            ]
          },
          "metadata": {
            "tags": []
          },
          "execution_count": 3
        }
      ]
    },
    {
      "cell_type": "code",
      "metadata": {
        "colab": {
          "base_uri": "https://localhost:8080/"
        },
        "id": "6GnZqiN4_KmF",
        "outputId": "b6b07fec-9889-406a-c84f-ba8817d55cde"
      },
      "source": [
        "park_tkts_iter = iter(park_tkts)\n",
        "park_tkts_iter"
      ],
      "execution_count": 4,
      "outputs": [
        {
          "output_type": "execute_result",
          "data": {
            "text/plain": [
              "<generator object ParkingTickets.read_file at 0x7f9ef9b4add0>"
            ]
          },
          "metadata": {
            "tags": []
          },
          "execution_count": 4
        }
      ]
    },
    {
      "cell_type": "code",
      "metadata": {
        "colab": {
          "base_uri": "https://localhost:8080/",
          "height": 54
        },
        "id": "AIgdxITX_Oxp",
        "outputId": "169e625c-0544-4f54-ae02-a6d7a06cc203"
      },
      "source": [
        "#Retrieving next element\n",
        "next(park_tkts_iter)"
      ],
      "execution_count": 5,
      "outputs": [
        {
          "output_type": "execute_result",
          "data": {
            "application/vnd.google.colaboratory.intrinsic+json": {
              "type": "string"
            },
            "text/plain": [
              "'Summons Number,Plate ID,Registration State,Plate Type,Issue Date,Violation Code,Vehicle Body Type,Vehicle Make,Violation Description\\n'"
            ]
          },
          "metadata": {
            "tags": []
          },
          "execution_count": 5
        }
      ]
    },
    {
      "cell_type": "code",
      "metadata": {
        "colab": {
          "base_uri": "https://localhost:8080/",
          "height": 36
        },
        "id": "XRavkEXF_Qiu",
        "outputId": "09ad9be4-f79d-4f8e-c25d-a71926c85f3f"
      },
      "source": [
        "#Retrieving next element\n",
        "next(park_tkts_iter)"
      ],
      "execution_count": 6,
      "outputs": [
        {
          "output_type": "execute_result",
          "data": {
            "application/vnd.google.colaboratory.intrinsic+json": {
              "type": "string"
            },
            "text/plain": [
              "'4006478550,VAD7274,VA,PAS,10/5/2016,5,4D,BMW,BUS LANE VIOLATION\\n'"
            ]
          },
          "metadata": {
            "tags": []
          },
          "execution_count": 6
        }
      ]
    },
    {
      "cell_type": "code",
      "metadata": {
        "id": "C45VpGZg-Q64"
      },
      "source": [
        "def cast(data_type, value):\n",
        "    '''\n",
        "    Function used to cast the type of each field as required for later usage\n",
        "    '''\n",
        "    if data_type == 'INT':\n",
        "        return int(value)\n",
        "    elif data_type == 'DATE&TIME':\n",
        "        return datetime.strptime(value, '%m/%d/%Y')\n",
        "    elif data_type == 'BOOL':\n",
        "        return bool(value)\n",
        "    else:\n",
        "        return str(value)\n",
        "\n",
        "def cast_row(data_types, data_row):\n",
        "    return [cast(data_type, value) for data_type, value in zip(data_types, data_row)]"
      ],
      "execution_count": 7,
      "outputs": []
    },
    {
      "cell_type": "code",
      "metadata": {
        "id": "tQn_NE6p-sUe"
      },
      "source": [
        "class Tickets:\n",
        "    '''\n",
        "    This is a class to lazily read and extract violation information in a structured manner\n",
        "    '''\n",
        "    def __init__(self, ParkingTickets):\n",
        "        self.tickets = ParkingTickets\n",
        "\n",
        "    def __iter__(self):\n",
        "        return Tickets.fetch_ticket(self.tickets)\n",
        "\n",
        "    @staticmethod\n",
        "    def fetch_ticket(park_tkts):\n",
        "        data_types = ['INT', 'STRING', 'STRING', 'STRING', 'DATE&TIME', 'INT', 'STRING', 'STRING', 'STRING', 'BOOL']    \n",
        "        for index, tkt in enumerate(park_tkts):\n",
        "            if index == 0:\n",
        "                #First line of the file contains headers\n",
        "                headers = tkt.strip('\\n').split(',')\n",
        "                for index, header in enumerate(headers):\n",
        "                    headers[index] = '_'.join(header.split(' '))\n",
        "                #Added new column to easily count the violations for each car\n",
        "                headers.append('Is_Violated')\n",
        "                Car = namedtuple('Car', headers)\n",
        "            else:\n",
        "                #Violations data starts from second line onwards in the file\n",
        "                data = tkt.strip('\\n').split(',')\n",
        "                #Adding data for the new column: True Indicates a violation happened, False otherwise\n",
        "                if(data[-1] == ''):\n",
        "                    data.append('False')\n",
        "                else:\n",
        "                    data.append('True')\n",
        "                #Casting to maintain the type of each field of namedtuple\n",
        "                data = cast_row(data_types, data)\n",
        "                car = Car(*data)\n",
        "                yield car"
      ],
      "execution_count": 8,
      "outputs": []
    },
    {
      "cell_type": "code",
      "metadata": {
        "colab": {
          "base_uri": "https://localhost:8080/"
        },
        "id": "5o-_ztiW-233",
        "outputId": "70d9cb11-541b-4e8d-990f-1d2c20f9c276"
      },
      "source": [
        "tickets = Tickets(park_tkts)\n",
        "tickets"
      ],
      "execution_count": 9,
      "outputs": [
        {
          "output_type": "execute_result",
          "data": {
            "text/plain": [
              "<__main__.Tickets at 0x7f9ef7b27e90>"
            ]
          },
          "metadata": {
            "tags": []
          },
          "execution_count": 9
        }
      ]
    },
    {
      "cell_type": "code",
      "metadata": {
        "colab": {
          "base_uri": "https://localhost:8080/"
        },
        "id": "ofnR2PSf_CiT",
        "outputId": "a1d336ab-7e1f-4c9d-d611-9fa4f70a184c"
      },
      "source": [
        "tickets_iter = iter(tickets)\n",
        "tickets_iter"
      ],
      "execution_count": 10,
      "outputs": [
        {
          "output_type": "execute_result",
          "data": {
            "text/plain": [
              "<generator object Tickets.fetch_ticket at 0x7f9ef7b153d0>"
            ]
          },
          "metadata": {
            "tags": []
          },
          "execution_count": 10
        }
      ]
    },
    {
      "cell_type": "code",
      "metadata": {
        "colab": {
          "base_uri": "https://localhost:8080/"
        },
        "id": "QOW5wSp6-5ui",
        "outputId": "b0587af2-52dc-4f82-ef18-028bced2f1b0"
      },
      "source": [
        "#Retrieving next element\n",
        "next(tickets_iter)"
      ],
      "execution_count": 11,
      "outputs": [
        {
          "output_type": "execute_result",
          "data": {
            "text/plain": [
              "Car(Summons_Number=4006478550, Plate_ID='VAD7274', Registration_State='VA', Plate_Type='PAS', Issue_Date=datetime.datetime(2016, 10, 5, 0, 0), Violation_Code=5, Vehicle_Body_Type='4D', Vehicle_Make='BMW', Violation_Description='BUS LANE VIOLATION', Is_Violated=True)"
            ]
          },
          "metadata": {
            "tags": []
          },
          "execution_count": 11
        }
      ]
    },
    {
      "cell_type": "code",
      "metadata": {
        "colab": {
          "base_uri": "https://localhost:8080/"
        },
        "id": "xIWJCXK3-7Nw",
        "outputId": "7f0ac16b-a4ce-48e1-f16c-118f1d15cc27"
      },
      "source": [
        "#Retrieving next element\n",
        "next(tickets_iter)"
      ],
      "execution_count": 12,
      "outputs": [
        {
          "output_type": "execute_result",
          "data": {
            "text/plain": [
              "Car(Summons_Number=4006462396, Plate_ID='22834JK', Registration_State='NY', Plate_Type='COM', Issue_Date=datetime.datetime(2016, 9, 30, 0, 0), Violation_Code=5, Vehicle_Body_Type='VAN', Vehicle_Make='CHEVR', Violation_Description='BUS LANE VIOLATION', Is_Violated=True)"
            ]
          },
          "metadata": {
            "tags": []
          },
          "execution_count": 12
        }
      ]
    },
    {
      "cell_type": "code",
      "metadata": {
        "colab": {
          "base_uri": "https://localhost:8080/"
        },
        "id": "S6YMONSnAcN1",
        "outputId": "5cebce50-66f8-4e16-d935-eeb00696852a"
      },
      "source": [
        "#Shows each car maker has how many violations\n",
        "count_violations = Counter( (ticket.Vehicle_Make, ticket.Is_Violated) for ticket in tickets)\n",
        "# True indicates the car maker has a parking violation\n",
        "count_violations"
      ],
      "execution_count": 13,
      "outputs": [
        {
          "output_type": "execute_result",
          "data": {
            "text/plain": [
              "Counter({('', True): 5,\n",
              "         ('ACURA', True): 12,\n",
              "         ('AM/T', True): 1,\n",
              "         ('AUDI', True): 12,\n",
              "         ('BMW', True): 34,\n",
              "         ('BSA', True): 1,\n",
              "         ('BUICK', True): 5,\n",
              "         ('CADIL', True): 9,\n",
              "         ('CHEVR', True): 76,\n",
              "         ('CHRYS', True): 12,\n",
              "         ('CITRO', True): 1,\n",
              "         ('DODGE', True): 45,\n",
              "         ('FIAT', True): 1,\n",
              "         ('FIR', True): 1,\n",
              "         ('FORD', True): 104,\n",
              "         ('FRUEH', True): 44,\n",
              "         ('GEO', True): 1,\n",
              "         ('GMC', True): 35,\n",
              "         ('GMCQ', True): 1,\n",
              "         ('HIN', True): 6,\n",
              "         ('HINO', True): 2,\n",
              "         ('HONDA', True): 106,\n",
              "         ('HYUND', True): 35,\n",
              "         ('INFIN', True): 13,\n",
              "         ('INTER', True): 25,\n",
              "         ('ISUZU', True): 10,\n",
              "         ('JAGUA', True): 3,\n",
              "         ('JEEP', True): 22,\n",
              "         ('KENWO', True): 5,\n",
              "         ('KIA', True): 8,\n",
              "         ('LEXUS', True): 26,\n",
              "         ('LINCO', True): 12,\n",
              "         ('MAZDA', True): 5,\n",
              "         ('ME/BE', True): 38,\n",
              "         ('MERCU', True): 4,\n",
              "         ('MI/F', True): 1,\n",
              "         ('MINI', True): 1,\n",
              "         ('MITSU', True): 11,\n",
              "         ('NISSA', True): 70,\n",
              "         ('NS/OT', True): 18,\n",
              "         ('OLDSM', True): 1,\n",
              "         ('PETER', True): 1,\n",
              "         ('PLYMO', True): 1,\n",
              "         ('PONTI', True): 1,\n",
              "         ('PORSC', True): 3,\n",
              "         ('ROVER', True): 5,\n",
              "         ('SAAB', True): 2,\n",
              "         ('SATUR', True): 2,\n",
              "         ('SCION', True): 2,\n",
              "         ('SMART', True): 3,\n",
              "         ('SPRI', True): 1,\n",
              "         ('STAR', True): 1,\n",
              "         ('SUBAR', True): 18,\n",
              "         ('TOYOT', True): 112,\n",
              "         ('UD', True): 1,\n",
              "         ('UPS', True): 1,\n",
              "         ('UTILI', True): 1,\n",
              "         ('VOLKS', True): 8,\n",
              "         ('VOLVO', True): 12,\n",
              "         ('WORKH', True): 2,\n",
              "         ('YAMAH', True): 1})"
            ]
          },
          "metadata": {
            "tags": []
          },
          "execution_count": 13
        }
      ]
    },
    {
      "cell_type": "code",
      "metadata": {
        "id": "hbmf9xMfDEGL"
      },
      "source": [
        ""
      ],
      "execution_count": null,
      "outputs": []
    }
  ]
}