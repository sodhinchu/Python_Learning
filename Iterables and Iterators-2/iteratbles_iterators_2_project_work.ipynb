{
  "nbformat": 4,
  "nbformat_minor": 0,
  "metadata": {
    "colab": {
      "name": "Session12_Assignment.ipynb",
      "provenance": [],
      "collapsed_sections": []
    },
    "kernelspec": {
      "name": "python3",
      "display_name": "Python 3"
    },
    "language_info": {
      "name": "python"
    }
  },
  "cells": [
    {
      "cell_type": "code",
      "metadata": {
        "id": "m4VBms1zxnTJ"
      },
      "source": [
        "#Imports\n",
        "from polygon import Polygon\n",
        "from polygonseqtype import PolygonSeqType"
      ],
      "execution_count": 2,
      "outputs": []
    },
    {
      "cell_type": "code",
      "metadata": {
        "colab": {
          "base_uri": "https://localhost:8080/"
        },
        "id": "9Iop9O-exnV_",
        "outputId": "0187bc33-483b-491b-9de7-3ca7be6267fa"
      },
      "source": [
        "#Creating Polygon Object\n",
        "p1 = Polygon(edges = 5, radius = 6)\n",
        "p1"
      ],
      "execution_count": 3,
      "outputs": [
        {
          "output_type": "execute_result",
          "data": {
            "text/plain": [
              "Polygon(edges=5, radius=6)"
            ]
          },
          "metadata": {
            "tags": []
          },
          "execution_count": 3
        }
      ]
    },
    {
      "cell_type": "code",
      "metadata": {
        "colab": {
          "base_uri": "https://localhost:8080/"
        },
        "id": "sqT5SpQ1xnZg",
        "outputId": "01c63b5d-2ad1-48e9-ad24-75eed4f2ab88"
      },
      "source": [
        "#Check whether the properties are already computed or not\n",
        "#Checking the values of attributes in __dict__ gives information on this\n",
        "#If the value of the attributes is None then they are not pre-computed\n",
        "p1.__dict__"
      ],
      "execution_count": 4,
      "outputs": [
        {
          "output_type": "execute_result",
          "data": {
            "text/plain": [
              "{'_angle': None,\n",
              " '_apothem': None,\n",
              " '_area': None,\n",
              " '_edgelen': None,\n",
              " '_edges': 5,\n",
              " '_perimeter': None,\n",
              " '_radius': 6}"
            ]
          },
          "metadata": {
            "tags": []
          },
          "execution_count": 4
        }
      ]
    },
    {
      "cell_type": "code",
      "metadata": {
        "colab": {
          "base_uri": "https://localhost:8080/"
        },
        "id": "x_CUSdD6xnc2",
        "outputId": "259baa30-768a-4dc5-fb70-e3df1096330c"
      },
      "source": [
        "#In the above output, except for edges and radius none of the other attributes are computed\n",
        "#Now let's compute each attribute one by one and keep checking the __dict__ to see only that particular attribute is computed\n",
        "p1.edgelen"
      ],
      "execution_count": 6,
      "outputs": [
        {
          "output_type": "stream",
          "text": [
            "Computing EdgeLen\n"
          ],
          "name": "stdout"
        },
        {
          "output_type": "execute_result",
          "data": {
            "text/plain": [
              "2.9391523179536476e-16"
            ]
          },
          "metadata": {
            "tags": []
          },
          "execution_count": 6
        }
      ]
    },
    {
      "cell_type": "code",
      "metadata": {
        "colab": {
          "base_uri": "https://localhost:8080/"
        },
        "id": "n0mzs5OQxnhY",
        "outputId": "92c12bb9-6676-442b-e3db-3bbc66535a93"
      },
      "source": [
        "#Dict should be updated only for EdgeLen attribute\n",
        "p1.__dict__"
      ],
      "execution_count": 7,
      "outputs": [
        {
          "output_type": "execute_result",
          "data": {
            "text/plain": [
              "{'_angle': None,\n",
              " '_apothem': None,\n",
              " '_area': None,\n",
              " '_edgelen': 2.9391523179536476e-16,\n",
              " '_edges': 5,\n",
              " '_perimeter': None,\n",
              " '_radius': 6}"
            ]
          },
          "metadata": {
            "tags": []
          },
          "execution_count": 7
        }
      ]
    },
    {
      "cell_type": "code",
      "metadata": {
        "colab": {
          "base_uri": "https://localhost:8080/"
        },
        "id": "PnbZqKncxnr-",
        "outputId": "76ec5664-7a65-49ec-8b0e-52551c9bcbd1"
      },
      "source": [
        "#Re-access the EdgeLen value and check it is not recomputed but used the previously computed(cached) value\n",
        "p1.edgelen"
      ],
      "execution_count": 8,
      "outputs": [
        {
          "output_type": "stream",
          "text": [
            "Using Cached Value for EdgeLen\n"
          ],
          "name": "stdout"
        },
        {
          "output_type": "execute_result",
          "data": {
            "text/plain": [
              "2.9391523179536476e-16"
            ]
          },
          "metadata": {
            "tags": []
          },
          "execution_count": 8
        }
      ]
    },
    {
      "cell_type": "code",
      "metadata": {
        "colab": {
          "base_uri": "https://localhost:8080/"
        },
        "id": "WjmIgWcDxnv9",
        "outputId": "ada7184a-9de8-47ee-f3c5-34b72ef29aa8"
      },
      "source": [
        "#Similarly Compute Angle\n",
        "p1.angle"
      ],
      "execution_count": 9,
      "outputs": [
        {
          "output_type": "stream",
          "text": [
            "Computing Angle\n"
          ],
          "name": "stdout"
        },
        {
          "output_type": "execute_result",
          "data": {
            "text/plain": [
              "108.0"
            ]
          },
          "metadata": {
            "tags": []
          },
          "execution_count": 9
        }
      ]
    },
    {
      "cell_type": "code",
      "metadata": {
        "colab": {
          "base_uri": "https://localhost:8080/"
        },
        "id": "YrCryLESxnyj",
        "outputId": "a9d01b72-22bf-476f-ab68-eb70a80cc27a"
      },
      "source": [
        "#Dict should be updated for Angle\n",
        "p1.__dict__"
      ],
      "execution_count": 10,
      "outputs": [
        {
          "output_type": "execute_result",
          "data": {
            "text/plain": [
              "{'_angle': 108.0,\n",
              " '_apothem': None,\n",
              " '_area': None,\n",
              " '_edgelen': 2.9391523179536476e-16,\n",
              " '_edges': 5,\n",
              " '_perimeter': None,\n",
              " '_radius': 6}"
            ]
          },
          "metadata": {
            "tags": []
          },
          "execution_count": 10
        }
      ]
    },
    {
      "cell_type": "code",
      "metadata": {
        "colab": {
          "base_uri": "https://localhost:8080/"
        },
        "id": "RFuKkeGxytaL",
        "outputId": "b01b748a-33d6-4350-ee7f-2409de746d65"
      },
      "source": [
        "#Re-computing Angle value\n",
        "p1.angle"
      ],
      "execution_count": 11,
      "outputs": [
        {
          "output_type": "stream",
          "text": [
            "Using Cached Value for Angle\n"
          ],
          "name": "stdout"
        },
        {
          "output_type": "execute_result",
          "data": {
            "text/plain": [
              "108.0"
            ]
          },
          "metadata": {
            "tags": []
          },
          "execution_count": 11
        }
      ]
    },
    {
      "cell_type": "code",
      "metadata": {
        "colab": {
          "base_uri": "https://localhost:8080/"
        },
        "id": "mJPf-Z0YyvUd",
        "outputId": "61b85e03-0382-4025-b75a-6e87e7a8b99f"
      },
      "source": [
        "#Computing Apothem\n",
        "p1.apothem"
      ],
      "execution_count": 12,
      "outputs": [
        {
          "output_type": "stream",
          "text": [
            "Computing Apothem\n"
          ],
          "name": "stdout"
        },
        {
          "output_type": "execute_result",
          "data": {
            "text/plain": [
              "-1.2"
            ]
          },
          "metadata": {
            "tags": []
          },
          "execution_count": 12
        }
      ]
    },
    {
      "cell_type": "code",
      "metadata": {
        "colab": {
          "base_uri": "https://localhost:8080/"
        },
        "id": "I8xni4G6yx9B",
        "outputId": "95614427-34f2-45cb-d886-01ba9e8b1e34"
      },
      "source": [
        "p1.__dict__"
      ],
      "execution_count": 13,
      "outputs": [
        {
          "output_type": "execute_result",
          "data": {
            "text/plain": [
              "{'_angle': 108.0,\n",
              " '_apothem': -1.2,\n",
              " '_area': None,\n",
              " '_edgelen': 2.9391523179536476e-16,\n",
              " '_edges': 5,\n",
              " '_perimeter': None,\n",
              " '_radius': 6}"
            ]
          },
          "metadata": {
            "tags": []
          },
          "execution_count": 13
        }
      ]
    },
    {
      "cell_type": "code",
      "metadata": {
        "colab": {
          "base_uri": "https://localhost:8080/"
        },
        "id": "kf3MMQK9yzIT",
        "outputId": "0309328f-0c16-4a3f-8b86-a71f7204a615"
      },
      "source": [
        "#Checking for Caching values for Apothem\n",
        "p1.apothem"
      ],
      "execution_count": 14,
      "outputs": [
        {
          "output_type": "stream",
          "text": [
            "Using Cached Value for Apothem\n"
          ],
          "name": "stdout"
        },
        {
          "output_type": "execute_result",
          "data": {
            "text/plain": [
              "-1.2"
            ]
          },
          "metadata": {
            "tags": []
          },
          "execution_count": 14
        }
      ]
    },
    {
      "cell_type": "code",
      "metadata": {
        "colab": {
          "base_uri": "https://localhost:8080/"
        },
        "id": "gbGtjZc9y3FP",
        "outputId": "a4a897a0-f83e-4957-f8fc-149c59c5a298"
      },
      "source": [
        "#Computing Area\n",
        "p1.area"
      ],
      "execution_count": 15,
      "outputs": [
        {
          "output_type": "stream",
          "text": [
            "Computing Area\n"
          ],
          "name": "stdout"
        },
        {
          "output_type": "execute_result",
          "data": {
            "text/plain": [
              "-8.817456953860942e-16"
            ]
          },
          "metadata": {
            "tags": []
          },
          "execution_count": 15
        }
      ]
    },
    {
      "cell_type": "code",
      "metadata": {
        "colab": {
          "base_uri": "https://localhost:8080/"
        },
        "id": "Hko7agyhy59w",
        "outputId": "3a1a9627-2064-4a2d-f67d-e5e0a0c8c4ef"
      },
      "source": [
        "#Dict Update for Area\n",
        "p1.__dict__"
      ],
      "execution_count": 16,
      "outputs": [
        {
          "output_type": "execute_result",
          "data": {
            "text/plain": [
              "{'_angle': 108.0,\n",
              " '_apothem': -1.2,\n",
              " '_area': -8.817456953860942e-16,\n",
              " '_edgelen': 2.9391523179536476e-16,\n",
              " '_edges': 5,\n",
              " '_perimeter': None,\n",
              " '_radius': 6}"
            ]
          },
          "metadata": {
            "tags": []
          },
          "execution_count": 16
        }
      ]
    },
    {
      "cell_type": "code",
      "metadata": {
        "colab": {
          "base_uri": "https://localhost:8080/"
        },
        "id": "SLNeg-Qjy9cI",
        "outputId": "267403e8-cb9e-4b6b-b374-2c29958e6718"
      },
      "source": [
        "#Caching of Area value\n",
        "p1.area"
      ],
      "execution_count": 17,
      "outputs": [
        {
          "output_type": "stream",
          "text": [
            "Using Cached Value for Area\n"
          ],
          "name": "stdout"
        },
        {
          "output_type": "execute_result",
          "data": {
            "text/plain": [
              "-8.817456953860942e-16"
            ]
          },
          "metadata": {
            "tags": []
          },
          "execution_count": 17
        }
      ]
    },
    {
      "cell_type": "code",
      "metadata": {
        "colab": {
          "base_uri": "https://localhost:8080/"
        },
        "id": "E1r01d3IzAil",
        "outputId": "15badc05-1388-4e8f-8951-b9a4194dd46d"
      },
      "source": [
        "#Computing Perimeter\n",
        "p1.perimeter"
      ],
      "execution_count": 18,
      "outputs": [
        {
          "output_type": "stream",
          "text": [
            "Computing Perimeter\n"
          ],
          "name": "stdout"
        },
        {
          "output_type": "execute_result",
          "data": {
            "text/plain": [
              "1.4695761589768238e-15"
            ]
          },
          "metadata": {
            "tags": []
          },
          "execution_count": 18
        }
      ]
    },
    {
      "cell_type": "code",
      "metadata": {
        "colab": {
          "base_uri": "https://localhost:8080/"
        },
        "id": "npUxwxVuzCJ1",
        "outputId": "f3b62122-adf6-4e77-dd5b-f7d690044ab5"
      },
      "source": [
        "#Update Dict for Perimeter\n",
        "p1.__dict__"
      ],
      "execution_count": 19,
      "outputs": [
        {
          "output_type": "execute_result",
          "data": {
            "text/plain": [
              "{'_angle': 108.0,\n",
              " '_apothem': -1.2,\n",
              " '_area': -8.817456953860942e-16,\n",
              " '_edgelen': 2.9391523179536476e-16,\n",
              " '_edges': 5,\n",
              " '_perimeter': 1.4695761589768238e-15,\n",
              " '_radius': 6}"
            ]
          },
          "metadata": {
            "tags": []
          },
          "execution_count": 19
        }
      ]
    },
    {
      "cell_type": "code",
      "metadata": {
        "colab": {
          "base_uri": "https://localhost:8080/"
        },
        "id": "NIhaIxONzESG",
        "outputId": "4cd0a149-2c8d-4f4a-d4e7-f114e653801c"
      },
      "source": [
        "#Cached value check for Perimeter\n",
        "p1.perimeter"
      ],
      "execution_count": 20,
      "outputs": [
        {
          "output_type": "stream",
          "text": [
            "Using Cached Value for Perimeter\n"
          ],
          "name": "stdout"
        },
        {
          "output_type": "execute_result",
          "data": {
            "text/plain": [
              "1.4695761589768238e-15"
            ]
          },
          "metadata": {
            "tags": []
          },
          "execution_count": 20
        }
      ]
    },
    {
      "cell_type": "code",
      "metadata": {
        "colab": {
          "base_uri": "https://localhost:8080/"
        },
        "id": "UCamJwGRzIOO",
        "outputId": "6db541eb-5f9c-4f33-a913-1ae033ee228d"
      },
      "source": [
        "#Checking for setting values outside from the class\n",
        "#Since the property annotator is used, this should raise AttributeError Exception\n",
        "try:\n",
        "  p1.angle=65\n",
        "except AttributeError:\n",
        "  print('Setting the values outside is not allowed for Area')"
      ],
      "execution_count": 22,
      "outputs": [
        {
          "output_type": "stream",
          "text": [
            "Setting the values outside is not allowed for Area\n"
          ],
          "name": "stdout"
        }
      ]
    },
    {
      "cell_type": "code",
      "metadata": {
        "colab": {
          "base_uri": "https://localhost:8080/"
        },
        "id": "BYFwtPYNzcwM",
        "outputId": "f4272991-a68d-46d0-f2da-da197db4c5d8"
      },
      "source": [
        "#Checking for another attribute\n",
        "try:\n",
        "  p1.perimeter=40\n",
        "except AttributeError:\n",
        "  print('Setting the values outside is not allowed for Perimeter')"
      ],
      "execution_count": 23,
      "outputs": [
        {
          "output_type": "stream",
          "text": [
            "Setting the values outside is not allowed for Perimeter\n"
          ],
          "name": "stdout"
        }
      ]
    },
    {
      "cell_type": "code",
      "metadata": {
        "colab": {
          "base_uri": "https://localhost:8080/"
        },
        "id": "m3PjPikTzmiS",
        "outputId": "62138426-ecc3-4fab-e714-1035596c0766"
      },
      "source": [
        "#Creating PolygonSeqType Class Object\n",
        "poly = PolygonSeqType(25, 37)\n",
        "poly"
      ],
      "execution_count": 25,
      "outputs": [
        {
          "output_type": "execute_result",
          "data": {
            "text/plain": [
              "PolygonSeqType(max_edges = 25, common_radius = 37)"
            ]
          },
          "metadata": {
            "tags": []
          },
          "execution_count": 25
        }
      ]
    },
    {
      "cell_type": "code",
      "metadata": {
        "colab": {
          "base_uri": "https://localhost:8080/"
        },
        "id": "6cpb5mszz3iL",
        "outputId": "9e2c8238-aaae-4271-8b91-3c951d5d58d8"
      },
      "source": [
        "#Attributes set to None, since none of them are accessed still\n",
        "poly.__dict__"
      ],
      "execution_count": 26,
      "outputs": [
        {
          "output_type": "execute_result",
          "data": {
            "text/plain": [
              "{'_commonradius': 37, '_maxedges': 25, '_maxpolygon': None, '_polygons': []}"
            ]
          },
          "metadata": {
            "tags": []
          },
          "execution_count": 26
        }
      ]
    },
    {
      "cell_type": "code",
      "metadata": {
        "colab": {
          "base_uri": "https://localhost:8080/"
        },
        "id": "SB84ItJc0BQU",
        "outputId": "891175bf-4b8d-418a-ab0a-997e6abd70e1"
      },
      "source": [
        "#Since the Polygons object is not yet created, it raises Exception\n",
        "try:\n",
        "  poly._polygons[0]\n",
        "except IndexError:\n",
        "  print('Polygon Value for index[0] is not computed yet')"
      ],
      "execution_count": 30,
      "outputs": [
        {
          "output_type": "stream",
          "text": [
            "Polygon Value for index[0] is not computed yet\n"
          ],
          "name": "stdout"
        }
      ]
    },
    {
      "cell_type": "code",
      "metadata": {
        "colab": {
          "base_uri": "https://localhost:8080/"
        },
        "id": "m267uaiJ0M-4",
        "outputId": "ab946b7d-334b-4165-c5d9-3df7dcaa92da"
      },
      "source": [
        "#Compute MaxPolygon\n",
        "poly.maxpolygon"
      ],
      "execution_count": 31,
      "outputs": [
        {
          "output_type": "stream",
          "text": [
            "Computing MaxPolygon\n",
            "Computing Polygon for the query index\n",
            "Computing Polygon for the query index\n",
            "Computing Polygon for the query index\n",
            "Computing Polygon for the query index\n",
            "Computing Polygon for the query index\n",
            "Computing Polygon for the query index\n",
            "Computing Polygon for the query index\n",
            "Computing Polygon for the query index\n",
            "Computing Polygon for the query index\n",
            "Computing Polygon for the query index\n",
            "Computing Polygon for the query index\n",
            "Computing Polygon for the query index\n",
            "Computing Polygon for the query index\n",
            "Computing Polygon for the query index\n",
            "Computing Polygon for the query index\n",
            "Computing Polygon for the query index\n",
            "Computing Polygon for the query index\n",
            "Computing Polygon for the query index\n",
            "Computing Polygon for the query index\n",
            "Computing Polygon for the query index\n",
            "Computing Polygon for the query index\n",
            "Computing Polygon for the query index\n",
            "Computing Polygon for the query index\n",
            "Computing Area\n",
            "Computing EdgeLen\n",
            "Computing Apothem\n",
            "Computing Perimeter\n",
            "Computing Area\n",
            "Computing EdgeLen\n",
            "Computing Apothem\n",
            "Computing Perimeter\n",
            "Computing Area\n",
            "Computing EdgeLen\n",
            "Computing Apothem\n",
            "Computing Perimeter\n",
            "Computing Area\n",
            "Computing EdgeLen\n",
            "Computing Apothem\n",
            "Computing Perimeter\n",
            "Computing Area\n",
            "Computing EdgeLen\n",
            "Computing Apothem\n",
            "Computing Perimeter\n",
            "Computing Area\n",
            "Computing EdgeLen\n",
            "Computing Apothem\n",
            "Computing Perimeter\n",
            "Computing Area\n",
            "Computing EdgeLen\n",
            "Computing Apothem\n",
            "Computing Perimeter\n",
            "Computing Area\n",
            "Computing EdgeLen\n",
            "Computing Apothem\n",
            "Computing Perimeter\n",
            "Computing Area\n",
            "Computing EdgeLen\n",
            "Computing Apothem\n",
            "Computing Perimeter\n",
            "Computing Area\n",
            "Computing EdgeLen\n",
            "Computing Apothem\n",
            "Computing Perimeter\n",
            "Computing Area\n",
            "Computing EdgeLen\n",
            "Computing Apothem\n",
            "Computing Perimeter\n",
            "Computing Area\n",
            "Computing EdgeLen\n",
            "Computing Apothem\n",
            "Computing Perimeter\n",
            "Computing Area\n",
            "Computing EdgeLen\n",
            "Computing Apothem\n",
            "Computing Perimeter\n",
            "Computing Area\n",
            "Computing EdgeLen\n",
            "Computing Apothem\n",
            "Computing Perimeter\n",
            "Computing Area\n",
            "Computing EdgeLen\n",
            "Computing Apothem\n",
            "Computing Perimeter\n",
            "Computing Area\n",
            "Computing EdgeLen\n",
            "Computing Apothem\n",
            "Computing Perimeter\n",
            "Computing Area\n",
            "Computing EdgeLen\n",
            "Computing Apothem\n",
            "Computing Perimeter\n",
            "Computing Area\n",
            "Computing EdgeLen\n",
            "Computing Apothem\n",
            "Computing Perimeter\n",
            "Computing Area\n",
            "Computing EdgeLen\n",
            "Computing Apothem\n",
            "Computing Perimeter\n",
            "Computing Area\n",
            "Computing EdgeLen\n",
            "Computing Apothem\n",
            "Computing Perimeter\n",
            "Computing Area\n",
            "Computing EdgeLen\n",
            "Computing Apothem\n",
            "Computing Perimeter\n",
            "Computing Area\n",
            "Computing EdgeLen\n",
            "Computing Apothem\n",
            "Computing Perimeter\n",
            "Computing Area\n",
            "Computing EdgeLen\n",
            "Computing Apothem\n",
            "Computing Perimeter\n"
          ],
          "name": "stdout"
        },
        {
          "output_type": "execute_result",
          "data": {
            "text/plain": [
              "Polygon(edges=25, radius=37)"
            ]
          },
          "metadata": {
            "tags": []
          },
          "execution_count": 31
        }
      ]
    },
    {
      "cell_type": "code",
      "metadata": {
        "colab": {
          "base_uri": "https://localhost:8080/"
        },
        "id": "Uirs6IwN0Ws6",
        "outputId": "419b17c0-4b12-4c56-fd7d-65c849c04f5a"
      },
      "source": [
        "#Dict gets updated with Max Polygon\n",
        "poly.__dict__"
      ],
      "execution_count": 32,
      "outputs": [
        {
          "output_type": "execute_result",
          "data": {
            "text/plain": [
              "{'_commonradius': 37,\n",
              " '_maxedges': 25,\n",
              " '_maxpolygon': Polygon(edges=25, radius=37),\n",
              " '_polygons': [Polygon(edges=3, radius=37),\n",
              "  Polygon(edges=4, radius=37),\n",
              "  Polygon(edges=5, radius=37),\n",
              "  Polygon(edges=6, radius=37),\n",
              "  Polygon(edges=7, radius=37),\n",
              "  Polygon(edges=8, radius=37),\n",
              "  Polygon(edges=9, radius=37),\n",
              "  Polygon(edges=10, radius=37),\n",
              "  Polygon(edges=11, radius=37),\n",
              "  Polygon(edges=12, radius=37),\n",
              "  Polygon(edges=13, radius=37),\n",
              "  Polygon(edges=14, radius=37),\n",
              "  Polygon(edges=15, radius=37),\n",
              "  Polygon(edges=16, radius=37),\n",
              "  Polygon(edges=17, radius=37),\n",
              "  Polygon(edges=18, radius=37),\n",
              "  Polygon(edges=19, radius=37),\n",
              "  Polygon(edges=20, radius=37),\n",
              "  Polygon(edges=21, radius=37),\n",
              "  Polygon(edges=22, radius=37),\n",
              "  Polygon(edges=23, radius=37),\n",
              "  Polygon(edges=24, radius=37),\n",
              "  Polygon(edges=25, radius=37)]}"
            ]
          },
          "metadata": {
            "tags": []
          },
          "execution_count": 32
        }
      ]
    },
    {
      "cell_type": "code",
      "metadata": {
        "id": "WtXHvaEq0ZOM"
      },
      "source": [
        ""
      ],
      "execution_count": null,
      "outputs": []
    }
  ]
}